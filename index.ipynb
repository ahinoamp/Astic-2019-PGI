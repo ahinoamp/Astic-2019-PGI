{
 "cells": [
  {
   "cell_type": "markdown",
   "metadata": {},
   "source": [
    "# A framework for petrophysically and geologically guided geophysical inversion (PGI)\n",
    "\n",
    "_Thibaut Astic and Douglas W. Oldenburg_\n",
    "\n",
    "<img src=\"figures/Framework.png\" width=100% align=\"center\">\n",
    "\n",
    "These notebooks were used to generate the figures shown in the article [A framework for petrophysically and geologically guided geophysical inversion\"](AsticOldenburg.pdf). We perform PGI over various examples: a 1D MT layered-earth, a DC profile over 2 cylinders, a stitched FDEM survey for saline water intrusion"
   ]
  },
  {
   "cell_type": "markdown",
   "metadata": {},
   "source": [
    "## Contents\n",
    "\n",
    "There are 3 notebooks in this repository:\n",
    "\n",
    "- [1_MT_PGI_Sharp_Smooth.ipynb](notebooks/1_MT_PGI_Sharp_Smooth.ipynb)\n",
    "\n",
    "    - Magnetotelluric data are acquired over a layered-earth that has sharp and smooth features. The PGI algorithm is provided with the true petrophysical distribution and the goal is to use it along with the MT data to find a solution that has the desired contrast features.\n",
    "\n",
    "\n",
    "- [2_DC_PGI_2cylinders.ipynb](notebooks/2_DC_PGI_2cylinders.ipynb)    \n",
    "    \n",
    "    - A DC resistivity profile is acquired over two cylinders. We illustrate the performance of this framework when no physical property mean values are available, and compared it to the result with full petrophysical information. We highlight then how geological information from borehole logs can be incorporated into this framework.\n",
    "    \n",
    "\n",
    "- [3_FDEM_PGI_Bookpurnong.ipynb](notebooks/3_FDEM_PGI_Bookpurnong.ipynb)\n",
    "\n",
    "    - This example illustrates an application of the PGI approach on a field frequency-domain EM dataset, in conjunction with a structurally constraining regularization, without using extensive geological or petrophysical information. We demonstrate how to use this framework to test hypothesis, such as a recovering a specific number of distinct units, and to build confidence, or doubts, in geological features displayed by the inversions.\n"
   ]
  },
  {
   "cell_type": "markdown",
   "metadata": {},
   "source": [
    "## Usage\n",
    "\n",
    "Dependencies are specified in requirements.txt\n",
    "\n",
    "```\n",
    "pip install -r requirements.txt\n",
    "```\n",
    "\n",
    "Please [make an issue](https://github.com/simpeg-research/heagy-2018-AEM/issues/new) if you encounter any problems while trying to run the notebooks."
   ]
  },
  {
   "cell_type": "markdown",
   "metadata": {},
   "source": [
    "## Citation\n",
    "\n",
    "Heagy, L. J., Kang, S., Cockett, R., & Oldenburg, D. W. (2018). Open source software for simulations and inversions of airborne electromagnetic data. In 7th International Workshop on Airborne Electromagnetics (pp. 1–5).\n",
    "\n",
    "** BibTex**\n",
    "\n",
    "```\n",
    "@inproceedings{Heagy2018,\n",
    "author = {Heagy, Lindsey J and Kang, Seogi and Cockett, Rowan and Oldenburg, Douglas W.},\n",
    "booktitle = {7th International Workshop on Airborne Electromagnetics},\n",
    "keywords = {finite volume,frequency domain,inversion,open source software,time domain},\n",
    "pages = {1--5},\n",
    "title = {{Open source software for simulations and inversions of airborne electromagnetic data}},\n",
    "year = {2018}\n",
    "}\n",
    "\n",
    "```"
   ]
  },
  {
   "cell_type": "code",
   "execution_count": null,
   "metadata": {},
   "outputs": [],
   "source": []
  }
 ],
 "metadata": {
  "kernelspec": {
   "display_name": "Python 3",
   "language": "python",
   "name": "python3"
  },
  "language_info": {
   "codemirror_mode": {
    "name": "ipython",
    "version": 3
   },
   "file_extension": ".py",
   "mimetype": "text/x-python",
   "name": "python",
   "nbconvert_exporter": "python",
   "pygments_lexer": "ipython3",
   "version": "3.6.6"
  }
 },
 "nbformat": 4,
 "nbformat_minor": 2
}
