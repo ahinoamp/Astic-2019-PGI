{
 "cells": [
  {
   "cell_type": "markdown",
   "metadata": {},
   "source": [
    "# A framework for petrophysically and geologically guided geophysical inversion (PGI)\n",
    "\n",
    "_Thibaut Astic and Douglas W. Oldenburg_\n",
    "\n",
    "<img src=\"figures/Framework.png\" width=100% align=\"center\">\n",
    "\n",
    "These notebooks were used to generate the figures shown in the article [A framework for petrophysically and geologically guided geophysical inversion](https://doi.org/10.1093/gji/ggz389). We perform PGI over various examples: a 1D MT layered-earth, a DC profile over 2 cylinders, a stitched FDEM survey for saline water intrusion"
   ]
  },
  {
   "cell_type": "markdown",
   "metadata": {},
   "source": [
    "## Contents\n",
    "\n",
    "There are 3 notebooks in this repository:\n",
    "\n",
    "- [1_MT_PGI_Sharp_Smooth.ipynb](notebooks/MT/1_MT_PGI_Sharp_Smooth.ipynb)\n",
    "\n",
    "    - Magnetotelluric data are acquired over a layered-earth that has sharp and smooth features. The PGI algorithm is provided with the true petrophysical distribution and the goal is to use it along with the MT data to find a solution that has the desired contrast features.\n",
    "\n",
    "\n",
    "- [2_DC_PGI_2cylinders.ipynb](notebooks/DC/2_DC_PGI_2cylinders.ipynb)    \n",
    "    \n",
    "    - A DC resistivity profile is acquired over two cylinders. We illustrate the performance of this framework when no physical property mean values are available, and compared it to the result with full petrophysical information. We highlight then how geological information from borehole logs can be incorporated into this framework.\n",
    "    \n",
    "\n",
    "- [3_FDEM_PGI_Bookpurnong.ipynb](notebooks/FDEM/3_FDEM_PGI_Bookpurnong.ipynb)\n",
    "\n",
    "    - This example illustrates an application of the PGI approach on a field frequency-domain EM dataset, in conjunction with a structurally constraining regularization, without using extensive geological or petrophysical information. We demonstrate how to use this framework to test hypothesis, such as a recovering a specific number of distinct units, and to build confidence, or doubts, in geological features displayed by the inversions.\n"
   ]
  },
  {
   "cell_type": "markdown",
   "metadata": {},
   "source": [
    "## Usage\n",
    "\n",
    "To setup your software environment, we recommend you use the provided conda environment\n",
    "\n",
    "```\n",
    "conda env create -f environment.yml\n",
    "conda activate pgi-environment\n",
    "```\n",
    "\n",
    "alternatively, you can install dependencies through pypi\n",
    "\n",
    "```\n",
    "pip install -r requirements.txt\n",
    "```\n",
    "\n",
    "Please [make an issue](https://github.com/simpeg-research/Astic-2019-PGI/issues/new) if you encounter any problems while trying to run the notebooks."
   ]
  },
  {
   "cell_type": "markdown",
   "metadata": {},
   "source": [
    "## Citation\n",
    "\n",
    "\n",
    "Astic, T., L. J. Heagy, and D. W. Oldenburg, 2021, Petrophysically and geologically guided multi-physics inversion using a dynamic Gaussian mixture model: Geophysical Journal International, 224(1), 40–68. https://doi.org/10.1093/gji/ggaa378\n",
    "\n",
    "Astic, T., and D. W. Oldenburg, 2019, A framework for petrophysically and geologically guided geophysical inversion using a dynamic Gaussian mixture model prior: Geophysical Journal International, 219(3), 1989-2012. https://doi.org/10.1093/gji/ggz389\n",
    "\n",
    "Astic, T. and D. W. Oldenburg, 2018, Petrophysically guided geophysical inversion using a dynamic Gaussian mixture model prior. In SEG Technical Program Expanded Abstracts 2018 (pp. 2312-2316). https://doi.org/10.1190/segam2018-2995155.1\n",
    "\n",
    "\n",
    "```\n",
    "@article{PGI_Joint,\n",
    "author = {Astic, Thibaut and Heagy, Lindsey J and Oldenburg, Douglas W},\n",
    "title = \"{Petrophysically and geologically guided multi-physics inversion using a dynamic Gaussian mixture model}\",\n",
    "journal = {Geophysical Journal International},\n",
    "volume = {224},\n",
    "number = {1},\n",
    "pages = {40-68},\n",
    "year = {2020},\n",
    "month = {08},\n",
    "issn = {0956-540X},\n",
    "doi = {10.1093/gji/ggaa378},\n",
    "url = {https://doi.org/10.1093/gji/ggaa378},\n",
    "eprint = {https://academic.oup.com/gji/article-pdf/224/1/40/34193255/ggaa378.pdf},\n",
    "}\n",
    "\n",
    "@article{PGI_framework,\n",
    "author = {Astic, Thibaut and Oldenburg, Douglas W},\n",
    "title = \"{A framework for petrophysically and geologically guided geophysical inversion using a dynamic Gaussian mixture model prior}\",\n",
    "journal = {Geophysical Journal International},\n",
    "volume = {219},\n",
    "number = {3},\n",
    "pages = {1989-2012},\n",
    "year = {2019},\n",
    "month = {08},\n",
    "issn = {0956-540X},\n",
    "doi = {10.1093/gji/ggz389},\n",
    "url = {https://doi.org/10.1093/gji/ggz389},\n",
    "eprint = {http://oup.prod.sis.lan/gji/article-pdf/219/3/1989/30144784/ggz389.pdf},\n",
    "}\n",
    "\n",
    "@inbook{Astic2018,\n",
    "author = {Thibaut Astic and Douglas W. Oldenburg},\n",
    "title = {Petrophysically guided geophysical inversion using a dynamic Gaussian mixture model prior},\n",
    "booktitle = {SEG Technical Program Expanded Abstracts 2018},\n",
    "chapter = {},\n",
    "pages = {2312-2316},\n",
    "year = {2018},\n",
    "doi = {10.1190/segam2018-2995155.1},\n",
    "URL = {https://library.seg.org/doi/abs/10.1190/segam2018-2995155.1},\n",
    "eprint = {https://library.seg.org/doi/pdf/10.1190/segam2018-2995155.1}\n",
    "}\n",
    "```"
   ]
  },
  {
   "cell_type": "markdown",
   "metadata": {},
   "source": []
  },
  {
   "cell_type": "code",
   "execution_count": null,
   "metadata": {},
   "outputs": [],
   "source": []
  }
 ],
 "metadata": {
  "kernelspec": {
   "display_name": "Python 3",
   "language": "python",
   "name": "python3"
  },
  "language_info": {
   "codemirror_mode": {
    "name": "ipython",
    "version": 3
   },
   "file_extension": ".py",
   "mimetype": "text/x-python",
   "name": "python",
   "nbconvert_exporter": "python",
   "pygments_lexer": "ipython3",
   "version": "3.7.11"
  }
 },
 "nbformat": 4,
 "nbformat_minor": 2
}
